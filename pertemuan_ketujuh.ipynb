{
 "metadata": {
  "language_info": {
   "codemirror_mode": {
    "name": "ipython",
    "version": 3
   },
   "file_extension": ".py",
   "mimetype": "text/x-python",
   "name": "python",
   "nbconvert_exporter": "python",
   "pygments_lexer": "ipython3",
   "version": 3
  },
  "orig_nbformat": 2
 },
 "nbformat": 4,
 "nbformat_minor": 2,
 "cells": [
  {
   "cell_type": "code",
   "execution_count": 1,
   "metadata": {},
   "outputs": [
    {
     "output_type": "stream",
     "name": "stdout",
     "text": [
      "Bismillah\n"
     ]
    }
   ],
   "source": [
    "print(\"Bismillah\")"
   ]
  },
  {
   "source": [
    "# Iterator"
   ],
   "cell_type": "markdown",
   "metadata": {}
  },
  {
   "cell_type": "code",
   "execution_count": 4,
   "metadata": {},
   "outputs": [],
   "source": [
    "my_list = [\"Halo\", \"Test\", \"Iterator\"]"
   ]
  },
  {
   "cell_type": "code",
   "execution_count": 5,
   "metadata": {},
   "outputs": [
    {
     "output_type": "stream",
     "name": "stdout",
     "text": [
      "Halo\nTest\nIterator\n"
     ]
    }
   ],
   "source": [
    "# for i in my_list:\n",
    "#     print(i)"
   ]
  },
  {
   "cell_type": "code",
   "execution_count": 14,
   "metadata": {
    "tags": []
   },
   "outputs": [
    {
     "output_type": "stream",
     "name": "stdout",
     "text": [
      "Halo\nTest\nIterator\nSelesai, cuma tiga\n"
     ]
    }
   ],
   "source": [
    "try:\n",
    "    iterator = iter(my_list)\n",
    "    print(next(iterator))\n",
    "    print(next(iterator))\n",
    "    print(next(iterator))\n",
    "    print(next(iterator))\n",
    "    print(next(iterator))\n",
    "    print(next(iterator))\n",
    "    print(next(iterator))\n",
    "    print(next(iterator))\n",
    "except StopIteration:\n",
    "    print(\"Selesai, cuma tiga\")"
   ]
  },
  {
   "cell_type": "code",
   "execution_count": 31,
   "metadata": {},
   "outputs": [
    {
     "output_type": "stream",
     "name": "stdout",
     "text": [
      "1\n2\n4\n8\n"
     ]
    }
   ],
   "source": [
    "class Angka:\n",
    "    def __init__(self, max=0):\n",
    "        self.max = max\n",
    "\n",
    "    def __iter__(self):\n",
    "        self.min = 0\n",
    "        return self\n",
    "\n",
    "    def __next__(self):\n",
    "        if self.min <= self.max:\n",
    "            result = 2 ** self.min\n",
    "            self.min += 1\n",
    "            return result\n",
    "        else:\n",
    "            raise StopIteration\n",
    "\n",
    "number = Angka(3)\n",
    "itr = iter(number)\n",
    "print(next(itr))\n",
    "print(next(itr))\n",
    "print(next(itr))\n",
    "print(next(itr))"
   ]
  },
  {
   "cell_type": "code",
   "execution_count": 32,
   "metadata": {},
   "outputs": [
    {
     "output_type": "stream",
     "name": "stdout",
     "text": [
      "1\n2\n4\n8\n"
     ]
    }
   ],
   "source": [
    "for i in number:\n",
    "    print(i)"
   ]
  },
  {
   "source": [
    "# Generator"
   ],
   "cell_type": "markdown",
   "metadata": {}
  },
  {
   "cell_type": "code",
   "execution_count": 43,
   "metadata": {},
   "outputs": [],
   "source": [
    "def myGenerator():\n",
    "    x = 1\n",
    "    print(\"Ini yang pertama\")\n",
    "    yield x\n",
    "\n",
    "    x += 1\n",
    "    print(\"Ini yang ke dua\")\n",
    "    yield x\n",
    "\n",
    "    x += 1\n",
    "    print(\"Ini yang ke tiga\")\n",
    "    yield x\n",
    "\n",
    "    x += 1\n",
    "    print(\"Ini yang ke empat\")\n",
    "    yield x"
   ]
  },
  {
   "cell_type": "code",
   "execution_count": 46,
   "metadata": {},
   "outputs": [
    {
     "output_type": "stream",
     "name": "stdout",
     "text": [
      "Ini yang pertama\n1\nIni yang ke dua\n2\nIni yang ke tiga\n3\nIni yang ke empat\n4\n"
     ]
    }
   ],
   "source": [
    "itr = myGenerator()\n",
    "print(next(itr))\n",
    "print(next(itr))\n",
    "print(next(itr))\n",
    "print(next(itr))"
   ]
  },
  {
   "cell_type": "code",
   "execution_count": 61,
   "metadata": {},
   "outputs": [
    {
     "output_type": "stream",
     "name": "stdout",
     "text": [
      "l\na\ni\nc\ni\nf\ni\nt\nr\nA\n"
     ]
    }
   ],
   "source": [
    "def kata(my_word):\n",
    "    length = len(my_word)\n",
    "    for i in range(length - 1, -1, -1):\n",
    "        yield my_word[i]\n",
    "\n",
    "for x in kata(\"Artificial\"):\n",
    "    print(x)"
   ]
  },
  {
   "source": [],
   "cell_type": "markdown",
   "metadata": {}
  },
  {
   "cell_type": "code",
   "execution_count": 70,
   "metadata": {},
   "outputs": [
    {
     "output_type": "stream",
     "name": "stdout",
     "text": [
      "H\na\nl\no\n"
     ]
    }
   ],
   "source": [
    "def myKata(my_word):\n",
    "    length = len(my_word)\n",
    "    for i in range(length):\n",
    "        yield my_word[i]\n",
    "\n",
    "for x in myKata(\"Halo\"):\n",
    "    print(x)"
   ]
  },
  {
   "source": [
    "# Closure"
   ],
   "cell_type": "markdown",
   "metadata": {}
  },
  {
   "cell_type": "code",
   "execution_count": 79,
   "metadata": {},
   "outputs": [
    {
     "output_type": "stream",
     "name": "stdout",
     "text": [
      "2\n"
     ]
    }
   ],
   "source": [
    "def perkalian(x):\n",
    "    def dikaliDengan(y):\n",
    "        return x / y\n",
    "    return dikaliDengan\n",
    "\n",
    "times3 = perkalian(10)\n",
    "print(int(times3(5)))"
   ]
  },
  {
   "cell_type": "code",
   "execution_count": null,
   "metadata": {},
   "outputs": [],
   "source": []
  }
 ]
}